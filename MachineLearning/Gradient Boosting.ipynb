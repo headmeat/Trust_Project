{
 "cells": [
  {
   "cell_type": "code",
   "execution_count": 1,
   "metadata": {},
   "outputs": [
    {
     "name": "stdout",
     "output_type": "stream",
     "text": [
      "1.000\n",
      "0.958\n"
     ]
    }
   ],
   "source": [
    "from sklearn.ensemble import GradientBoostingClassifier\n",
    "from sklearn.model_selection import train_test_split\n",
    "from sklearn.datasets import load_breast_cancer\n",
    "\n",
    "cancer = load_breast_cancer()\n",
    "x_train, x_test, y_train, y_test = train_test_split(cancer.data, cancer.target, tratify=cancer.target, random_state=0)\n",
    "\n",
    "gbc = GradientBoostingClassifier(random_state=0) # 기본값: max_depth=3, learning_rate=0.1\n",
    "gbc.fit(x_train, y_train)\n",
    "\n",
    "score_train = gbc.score(x_train, y_train) # train set 정확도\n",
    "print('{:.3f}'.format(score_train))\n",
    "# 1.000\n",
    "\n",
    "score_test = gbc.score(x_test, y_test) # 일반화 정확도\n",
    "print('{:.3f}'.format(score_test))\n",
    "# 0.958"
   ]
  },
  {
   "cell_type": "code",
   "execution_count": 2,
   "metadata": {},
   "outputs": [
    {
     "name": "stdout",
     "output_type": "stream",
     "text": [
      "0.995\n",
      "0.965\n"
     ]
    }
   ],
   "source": [
    "gbc = GradientBoostingClassifier(random_state=0, max_depth=1)\n",
    "gbc.fit(x_train, y_train)\n",
    "\n",
    "score_train_pre = gbc.score(x_train, y_train) # train set 정확도\n",
    "print('{:.3f}'.format(score_train_pre))\n",
    "# 0.995\n",
    "\n",
    "score_test_pre = gbc.score(x_test, y_test) # 일반화 정확도\n",
    "print('{:.3f}'.format(score_test_pre))\n",
    "# 0.965"
   ]
  },
  {
   "cell_type": "code",
   "execution_count": 3,
   "metadata": {},
   "outputs": [
    {
     "name": "stdout",
     "output_type": "stream",
     "text": [
      "0.995\n",
      "0.944\n"
     ]
    }
   ],
   "source": [
    "gbc = GradientBoostingClassifier(random_state=0, max_depth=3, learning_rate=0.01) # 기본값 0.1\n",
    "gbc.fit(x_train, y_train)\n",
    "\n",
    "score_train_lr = gbc.score(x_train, y_train)\n",
    "print('{:.3f}'.format(score_train_lr))\n",
    "# 0.995\n",
    "\n",
    "score_test_lr = gbc.score(x_test, y_test) \n",
    "print('{:.3f}'.format(score_test_lr))\n",
    "# 0.944"
   ]
  },
  {
   "cell_type": "code",
   "execution_count": 4,
   "metadata": {},
   "outputs": [],
   "source": [
    "import matplotlib\n",
    "import matplotlib.pyplot as plt\n",
    "import numpy as np\n",
    "\n",
    "score_set = np.round([score_train, score_test], 3)\n",
    "max_depth_score_set = np.round([score_train_pre, score_test_pre], 3)\n",
    "learning_rete_score_set = np.round([score_train_lr, score_test_lr], 3)\n",
    "\n",
    "index = np.arange(len(score_set))\n",
    "bar_width = 0.35\n",
    "bottom = 0.8\n",
    "\n",
    "list_set = [max_depth_score_set, learning_rete_score_set]\n",
    "line_set = ['--', ':']\n",
    "names = ['train', 'test']\n",
    "\n",
    "for i, line_set, name in zip(index, line_set, names):\n",
    "    plt.hlines(score_set[i], xmin=0-bar_width, xmax=index[-1]+2*bar_width, linestyle=line_set, label='default {}'.format(name))\n",
    "    plt.text(0-bar_width, score_set[i]+0.005, str(score_set[i]))\n",
    "\n",
    "plt.bar(index, max_depth_score_set, width=bar_width, label='adj max_depth')\n",
    "plt.bar(index+bar_width, learning_rete_score_set, width=bar_width, label='adj learning rate')\n",
    "\n",
    "for i, ts, te in zip(index, max_depth_score_set, learning_rete_score_set):\n",
    "    plt.text(i, (bottom+ts)/2, str(ts), horizontalalignment='center')\n",
    "    plt.text(i+bar_width, (bottom+te)/2, str(te), horizontalalignment='center')\n",
    "\n",
    "plt.ylim(bottom, 1.05)\n",
    "plt.xticks(index+bar_width/2, names)\n",
    "plt.ylabel('score', size=15)\n",
    "plt.legend(loc='upper center', bbox_to_anchor=(0.5, 1.1), ncol=4, fancybox=True, shadow=False)\n",
    "plt.show()"
   ]
  },
  {
   "cell_type": "code",
   "execution_count": null,
   "metadata": {},
   "outputs": [
    {
     "ename": "Error",
     "evalue": "Session cannot generate requests",
     "output_type": "error",
     "traceback": [
      "Error: Session cannot generate requests",
      "at w.executeCodeCell (c:\\Users\\Hyeuk\\.vscode\\extensions\\ms-toolsai.jupyter-2021.9.1101343141\\out\\client\\extension.js:52:301180)",
      "at w.execute (c:\\Users\\Hyeuk\\.vscode\\extensions\\ms-toolsai.jupyter-2021.9.1101343141\\out\\client\\extension.js:52:300551)",
      "at w.start (c:\\Users\\Hyeuk\\.vscode\\extensions\\ms-toolsai.jupyter-2021.9.1101343141\\out\\client\\extension.js:52:296215)",
      "at runMicrotasks (<anonymous>)",
      "at processTicksAndRejections (internal/process/task_queues.js:93:5)",
      "at async t.CellExecutionQueue.executeQueuedCells (c:\\Users\\Hyeuk\\.vscode\\extensions\\ms-toolsai.jupyter-2021.9.1101343141\\out\\client\\extension.js:52:310950)",
      "at async t.CellExecutionQueue.start (c:\\Users\\Hyeuk\\.vscode\\extensions\\ms-toolsai.jupyter-2021.9.1101343141\\out\\client\\extension.js:52:310490)"
     ]
    }
   ],
   "source": [
    "gbc = GradientBoostingClassifier(max_depth=1, random_state=0)\n",
    "gbc.fit(x_train, y_train)\n",
    "n_feature = cancer.data.shape[1]\n",
    "index=np.arange(n_feature)\n",
    "\n",
    "plt.barh(index, gbc.feature_importances_, align='center')\n",
    "plt.yticks(index, cancer.feature_names)\n",
    "plt.xlabel('feature importances', size=15)\n",
    "plt.ylabel('feature', size=15)\n",
    "plt.show() "
   ]
  },
  {
   "cell_type": "code",
   "execution_count": null,
   "metadata": {},
   "outputs": [],
   "source": []
  }
 ],
 "metadata": {
  "interpreter": {
   "hash": "9426c78cac494a5ae5a22e0d5f8fa48da7e4c0f608effbd156736920c37fea9b"
  },
  "kernelspec": {
   "display_name": "Python 3.9.0 64-bit ('mlearn': conda)",
   "name": "python3"
  },
  "language_info": {
   "codemirror_mode": {
    "name": "ipython",
    "version": 3
   },
   "file_extension": ".py",
   "mimetype": "text/x-python",
   "name": "python",
   "nbconvert_exporter": "python",
   "pygments_lexer": "ipython3",
   "version": "3.8.0"
  },
  "orig_nbformat": 4
 },
 "nbformat": 4,
 "nbformat_minor": 2
}
