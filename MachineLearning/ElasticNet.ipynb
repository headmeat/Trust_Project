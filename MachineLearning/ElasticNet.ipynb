{
 "cells": [
  {
   "cell_type": "code",
   "execution_count": 1,
   "metadata": {},
   "outputs": [
    {
     "name": "stdout",
     "output_type": "stream",
     "text": [
      "{'alpha': 0.43470131581250265}\n",
      "-30.8075833489672\n",
      "[-0.09411451  0.05398534 -0.03379912  0.         -0.          1.88716599\n",
      "  0.00748462 -1.02231039  0.31138668 -0.01623274 -0.80856877  0.00912317\n",
      " -0.69509854]\n"
     ]
    }
   ],
   "source": [
    "from sklearn.linear_model import ElasticNet\n",
    "from sklearn.metrics import mean_squared_error\n",
    "from sklearn.model_selection import cross_val_score\n",
    "from sklearn.model_selection import validation_curve\n",
    "import numpy as np\n",
    "from sklearn.model_selection import GridSearchCV\n",
    "import matplotlib.pyplot as plt\n",
    "import pandas as pd\n",
    "import numpy as np\n",
    "\n",
    "\n",
    "data_url = \"http://lib.stat.cmu.edu/datasets/boston\"\n",
    "raw_df = pd.read_csv(data_url, sep=\"\\s+\", skiprows=22, header=None)\n",
    "data = np.hstack([raw_df.values[::2, :], raw_df.values[1::2, :2]])\n",
    "target = raw_df.values[1::2, 2]\n",
    "\n",
    "\n",
    "'''\n",
    "boston = load_boston()\n",
    "X = boston.data #컬럼\n",
    "y = boston.target #마지막컬럼\n",
    "'''\n",
    "\n",
    "elasticnet = ElasticNet()\n",
    "alphas = np.logspace(-4, 0, 200)\n",
    "parameters = {'alpha': alphas }\n",
    "\n",
    "elasticnet_reg = GridSearchCV(elasticnet, parameters, scoring='neg_mean_squared_error',cv=5)\n",
    "elasticnet_reg.fit(data,target)\n",
    "\n",
    "print(elasticnet_reg.best_params_) #best params\n",
    "print(elasticnet_reg.best_score_)  #best score\n",
    "print(elasticnet_reg.best_estimator_.coef_) #All params\n"
   ]
  },
  {
   "cell_type": "code",
   "execution_count": null,
   "metadata": {},
   "outputs": [],
   "source": []
  }
 ],
 "metadata": {
  "interpreter": {
   "hash": "9426c78cac494a5ae5a22e0d5f8fa48da7e4c0f608effbd156736920c37fea9b"
  },
  "kernelspec": {
   "display_name": "Python 3.9.0 64-bit ('mlearn': conda)",
   "name": "python3"
  },
  "language_info": {
   "codemirror_mode": {
    "name": "ipython",
    "version": 3
   },
   "file_extension": ".py",
   "mimetype": "text/x-python",
   "name": "python",
   "nbconvert_exporter": "python",
   "pygments_lexer": "ipython3",
   "version": "3.9.0"
  },
  "orig_nbformat": 4
 },
 "nbformat": 4,
 "nbformat_minor": 2
}
